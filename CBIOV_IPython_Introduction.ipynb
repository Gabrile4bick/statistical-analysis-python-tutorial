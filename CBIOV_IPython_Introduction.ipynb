{
 "cells": [
  {
   "cell_type": "markdown",
   "metadata": {},
   "source": [
    "<h1 id=\"tocheading\">Table of Contents</h1>\n",
    "<div id=\"toc\"></div>"
   ]
  },
  {
   "cell_type": "code",
   "execution_count": 1,
   "metadata": {
    "collapsed": false
   },
   "outputs": [
    {
     "data": {
      "application/javascript": [
       "$.getScript('https://kmahelona.github.io/ipython_notebook_goodies/ipython_notebook_toc.js')"
      ],
      "text/plain": [
       "<IPython.core.display.Javascript object>"
      ]
     },
     "metadata": {},
     "output_type": "display_data"
    }
   ],
   "source": [
    "%%javascript\n",
    "$.getScript('https://kmahelona.github.io/ipython_notebook_goodies/ipython_notebook_toc.js')"
   ]
  },
  {
   "cell_type": "markdown",
   "metadata": {},
   "source": [
    "# IPython: beyond plain Python"
   ]
  },
  {
   "cell_type": "markdown",
   "metadata": {},
   "source": [
    "IPython provides a rich toolkit to help you make the most out of using Python, with:\n",
    "\n",
    "- Powerful Python shells (terminal and Qt-based).\n",
    "- A web-based notebook with the same core features but support for code, text, mathematical expressions, inline plots and other rich media.\n",
    "- Support for interactive data visualization and use of GUI toolkits.\n",
    "- Flexible, embeddable interpreters to load into your own projects.\n",
    "- Easy to use, high performance tools for parallel computing."
   ]
  },
  {
   "cell_type": "markdown",
   "metadata": {},
   "source": [
    "http://ipython.org/ipython-doc/stable/interactive/tutorial.html"
   ]
  },
  {
   "cell_type": "markdown",
   "metadata": {},
   "source": [
    "http://ipython.readthedocs.io/en/stable/"
   ]
  },
  {
   "cell_type": "markdown",
   "metadata": {},
   "source": [
    "When executing code in IPython, all valid Python syntax works as-is, but IPython provides a number of features designed to make the interactive experience more fluid and efficient."
   ]
  },
  {
   "cell_type": "markdown",
   "metadata": {},
   "source": [
    "offers:\n",
    "- tab completion\n",
    "- introspection\n",
    "- rich media\n",
    "- shell syntax\n",
    "- history\n",
    "- magic functions\n",
    "- tab completion\n",
    "- tab completion\n",
    "- tab completion"
   ]
  },
  {
   "cell_type": "markdown",
   "metadata": {},
   "source": [
    "# Navigation"
   ]
  },
  {
   "cell_type": "markdown",
   "metadata": {},
   "source": [
    "- `Esc` and `Enter` to toggle between \"Command\" and \"Edit\" mode --> see colour indicator of frame surrounding the cell\n",
    "\n",
    "- when in \"Command\" mode:\n",
    "    - use cursor keys to navigate\n",
    "    - `a` to insert cell Above\n",
    "    - `b` to insert cell Below\n",
    "    - `dd` to delete cell\n",
    "\n",
    "- when in \"Edit\" mode:\n",
    "    - `Tab` for tab completion of file-names\n",
    "    - `Shift` + `Tab` in parenthesis of function to display docstring\n",
    "    - `Cmd` + `/` toggle line comment"
   ]
  },
  {
   "cell_type": "markdown",
   "metadata": {},
   "source": [
    "## First things first: running code, getting help"
   ]
  },
  {
   "cell_type": "markdown",
   "metadata": {},
   "source": [
    "In the notebook, to run a cell of code, hit `Shift-Enter`. This executes the cell and puts the cursor in the next cell below, or makes a new one if you are at the end.  Alternately, you can use:\n",
    "    \n",
    "- `Alt-Enter` to force the creation of a new cell unconditionally (useful when inserting new content in the middle of an existing notebook).\n",
    "- `Control-Enter` executes the cell and keeps the cursor in the same cell, useful for quick experimentation of snippets that you don't need to keep permanently.\n",
    "- `Esc` and `Enter` to toggle between \"Command\" and \"Edit\" mode --> see colour indicator of frame surrounding the cell\n",
    "- `h` for Help or checkout \"Help\" --> \"Keyboard shortcuts\" from the menu"
   ]
  },
  {
   "cell_type": "code",
   "execution_count": 1,
   "metadata": {
    "collapsed": false
   },
   "outputs": [
    {
     "name": "stdout",
     "output_type": "stream",
     "text": [
      "tab completion we love you!! tab completion we love you!! tab completion we love you!! tab completion we love you!! tab completion we love you!! \n"
     ]
    }
   ],
   "source": [
    "print(\"tab completion we love you!! \"*5)"
   ]
  },
  {
   "cell_type": "code",
   "execution_count": 2,
   "metadata": {
    "collapsed": true
   },
   "outputs": [],
   "source": [
    "def funky_function(string):\n",
    "    \"\"\"\n",
    "    makes a string more awesome\n",
    "    please use everywhere and all the time\n",
    "    n.b. should be part of standard library\n",
    "    :param string: String\n",
    "    :return: String\n",
    "    \"\"\"\n",
    "    string += \" loves tab completion too <3\"\n",
    "    return string"
   ]
  },
  {
   "cell_type": "code",
   "execution_count": 3,
   "metadata": {
    "collapsed": false
   },
   "outputs": [
    {
     "data": {
      "text/plain": [
       "'bubu loves tab completion too <3'"
      ]
     },
     "execution_count": 3,
     "metadata": {},
     "output_type": "execute_result"
    }
   ],
   "source": [
    "funky_function(\"bubu\")"
   ]
  },
  {
   "cell_type": "code",
   "execution_count": 5,
   "metadata": {
    "collapsed": false
   },
   "outputs": [],
   "source": [
    "import math\n",
    "give_me_or_I_will = 1000000\n",
    "# math.log()"
   ]
  },
  {
   "cell_type": "code",
   "execution_count": 6,
   "metadata": {
    "collapsed": false
   },
   "outputs": [
    {
     "name": "stdout",
     "output_type": "stream",
     "text": [
      "The Zen of Python, by Tim Peters\n",
      "\n",
      "Beautiful is better than ugly.\n",
      "Explicit is better than implicit.\n",
      "Simple is better than complex.\n",
      "Complex is better than complicated.\n",
      "Flat is better than nested.\n",
      "Sparse is better than dense.\n",
      "Readability counts.\n",
      "Special cases aren't special enough to break the rules.\n",
      "Although practicality beats purity.\n",
      "Errors should never pass silently.\n",
      "Unless explicitly silenced.\n",
      "In the face of ambiguity, refuse the temptation to guess.\n",
      "There should be one-- and preferably only one --obvious way to do it.\n",
      "Although that way may not be obvious at first unless you're Dutch.\n",
      "Now is better than never.\n",
      "Although never is often better than *right* now.\n",
      "If the implementation is hard to explain, it's a bad idea.\n",
      "If the implementation is easy to explain, it may be a good idea.\n",
      "Namespaces are one honking great idea -- let's do more of those!\n"
     ]
    }
   ],
   "source": [
    "import this"
   ]
  },
  {
   "cell_type": "code",
   "execution_count": 7,
   "metadata": {
    "collapsed": true
   },
   "outputs": [],
   "source": [
    "?"
   ]
  },
  {
   "cell_type": "code",
   "execution_count": 8,
   "metadata": {
    "collapsed": true
   },
   "outputs": [],
   "source": [
    "%quickref"
   ]
  },
  {
   "cell_type": "markdown",
   "metadata": {},
   "source": [
    "## shell commands"
   ]
  },
  {
   "cell_type": "markdown",
   "metadata": {},
   "source": [
    "execute shell commands with the \"!\" prefix "
   ]
  },
  {
   "cell_type": "code",
   "execution_count": 9,
   "metadata": {
    "collapsed": false
   },
   "outputs": [
    {
     "data": {
      "text/plain": [
       "'/Users/dbl/modules/cpr/statistical-analysis-python-tutorial'"
      ]
     },
     "execution_count": 9,
     "metadata": {},
     "output_type": "execute_result"
    }
   ],
   "source": [
    "!pwd"
   ]
  },
  {
   "cell_type": "code",
   "execution_count": 13,
   "metadata": {
    "collapsed": false
   },
   "outputs": [
    {
     "name": "stdout",
     "output_type": "stream",
     "text": [
      "/Users/dbl/install\n"
     ]
    }
   ],
   "source": [
    "cd ~/install/"
   ]
  },
  {
   "cell_type": "code",
   "execution_count": 14,
   "metadata": {
    "collapsed": false
   },
   "outputs": [
    {
     "name": "stdout",
     "output_type": "stream",
     "text": [
      "total 0\r\n",
      "drwx------@ 19 dbl  staff   646B Apr 23 16:23 \u001b[34mpwiz-bin-darwin-x86_64-xgcc42-release-3_0_7692\u001b[m\u001b[m/\r\n"
     ]
    }
   ],
   "source": [
    "ls -lhtr"
   ]
  },
  {
   "cell_type": "code",
   "execution_count": 27,
   "metadata": {
    "collapsed": false
   },
   "outputs": [
    {
     "name": "stdout",
     "output_type": "stream",
     "text": [
      "/Users/dbl/Dropbox/CBioVikings_Ipython_Pandas\n"
     ]
    }
   ],
   "source": [
    "cd ~/Dropbox/CBioVikings_Ipython_Pandas/"
   ]
  },
  {
   "cell_type": "code",
   "execution_count": 28,
   "metadata": {
    "collapsed": false
   },
   "outputs": [
    {
     "name": "stdout",
     "output_type": "stream",
     "text": [
      "My shell is: /bin/zsh\n",
      "My disk usage is:\n",
      "Filesystem                                            Size   Used  Avail Capacity   iused     ifree %iused  Mounted on\n",
      "/dev/disk1                                           233Gi  195Gi   37Gi    85%  51303706   9675108   84%   /\n",
      "devfs                                                191Ki  191Ki    0Bi   100%       660         0  100%   /dev\n",
      "map -hosts                                             0Bi    0Bi    0Bi   100%         0         0  100%   /net\n",
      "map auto_home                                          0Bi    0Bi    0Bi   100%         0         0  100%   /home\n",
      "localhost:/Uu076-Puot2ttpSCVGWYax                    233Gi  233Gi    0Bi   100%         0         0  100%   /Volumes/MobileBackups\n",
      "//dblyon@CoolCat.local/video                         3.6Ti  2.8Ti  756Gi    80% 762121462 198114386   79%   /Volumes/video\n",
      "//dblyon@CoolCat.local/homes                         3.6Ti  2.8Ti  756Gi    80% 762121462 198114386   79%   /Volumes/homes\n",
      "//dblyon@CoolCat.local/home                          3.6Ti  2.8Ti  756Gi    80% 762121462 198114386   79%   /Volumes/home\n",
      "//dblyon@CoolCat._afpovertcp._tcp.local/TimeMachine  3.6Ti  2.8Ti  756Gi    80% 762121462 198114386   79%   /Volumes/TimeMachine\n",
      "/dev/disk4s2                                         3.6Ti  2.8Ti  756Gi    80% 762104054 198106194   79%   /Volumes/Time Machine Backups\n"
     ]
    }
   ],
   "source": [
    "%%bash\n",
    "echo \"My shell is:\" $SHELL\n",
    "echo \"My disk usage is:\"\n",
    "df -h"
   ]
  },
  {
   "cell_type": "code",
   "execution_count": 10,
   "metadata": {
    "collapsed": false
   },
   "outputs": [
    {
     "data": {
      "text/plain": [
       "(12,\n",
       " ['1. Introduction to Pandas.ipynb',\n",
       "  '2. Data Wrangling with Pandas.ipynb',\n",
       "  '3. Plotting and Visualization.ipynb'])"
      ]
     },
     "execution_count": 10,
     "metadata": {},
     "output_type": "execute_result"
    }
   ],
   "source": [
    "var = !ls\n",
    "len(var), var[:3]"
   ]
  },
  {
   "cell_type": "code",
   "execution_count": 11,
   "metadata": {
    "collapsed": false
   },
   "outputs": [
    {
     "name": "stdout",
     "output_type": "stream",
     "text": [
      "<class 'IPython.utils.text.SList'>\n",
      "1\n",
      "/Users/dbl/modules/cpr/statistical-analysis-python-tutorial\n"
     ]
    }
   ],
   "source": [
    "var = !pwd # store \n",
    "print(type(var))\n",
    "print(len(var))\n",
    "print(var[0])"
   ]
  },
  {
   "cell_type": "code",
   "execution_count": 12,
   "metadata": {
    "collapsed": false
   },
   "outputs": [
    {
     "data": {
      "text/plain": [
       "'statistical-analysis-python-tutorial'"
      ]
     },
     "execution_count": 12,
     "metadata": {},
     "output_type": "execute_result"
    }
   ],
   "source": [
    "import os\n",
    "os.path.basename(var[0])"
   ]
  },
  {
   "cell_type": "code",
   "execution_count": 13,
   "metadata": {
    "collapsed": false
   },
   "outputs": [
    {
     "name": "stdout",
     "output_type": "stream",
     "text": [
      "[Errno 2] No such file or directory: '/Users/dbl/modules/cpr/cbv_pandas/'\n",
      "/Users/dbl/modules/cpr/statistical-analysis-python-tutorial\n"
     ]
    }
   ],
   "source": [
    "cd ~/modules/cpr/cbv_pandas/"
   ]
  },
  {
   "cell_type": "code",
   "execution_count": 33,
   "metadata": {
    "collapsed": false
   },
   "outputs": [
    {
     "name": "stdout",
     "output_type": "stream",
     "text": [
      "00 - CBIOV_IPython_Introduction\n",
      "01 - CBIOV_Pandas_Introduction\n"
     ]
    }
   ],
   "source": [
    "files = !ls\n",
    "for index_, file_ in enumerate(files):\n",
    "    if file_.endswith('ipynb'):\n",
    "        print(\"{:02d} - {}\".format(index_, os.path.splitext(file_)[0]))"
   ]
  },
  {
   "cell_type": "markdown",
   "metadata": {},
   "source": [
    "## most helpful commands"
   ]
  },
  {
   "cell_type": "markdown",
   "metadata": {},
   "source": [
    "command  | description\n",
    "-------- | -----------\n",
    "? | Introduction and overview of IPython’s features.\n",
    "%quickref | Quick reference.\n",
    "help | Python’s own help system.\n",
    "?object | Details about ‘object’, use ‘??object’ for extra details."
   ]
  },
  {
   "cell_type": "markdown",
   "metadata": {},
   "source": [
    "try some things!!\n",
    "    1. Tab-complete a file\n",
    "    2. get details about object\n",
    "    3. get docstring information"
   ]
  },
  {
   "cell_type": "code",
   "execution_count": 14,
   "metadata": {
    "collapsed": true
   },
   "outputs": [],
   "source": [
    "fn = r\"~\" # hit `Tab` once to complete to homedir, hit `Tab` again to complete some more"
   ]
  },
  {
   "cell_type": "code",
   "execution_count": 15,
   "metadata": {
    "collapsed": false
   },
   "outputs": [],
   "source": [
    "?funky_function # execute to get details about object"
   ]
  },
  {
   "cell_type": "code",
   "execution_count": 43,
   "metadata": {
    "collapsed": true
   },
   "outputs": [],
   "source": [
    "?math.log"
   ]
  },
  {
   "cell_type": "code",
   "execution_count": 16,
   "metadata": {
    "collapsed": false
   },
   "outputs": [
    {
     "ename": "TypeError",
     "evalue": "unsupported operand type(s) for +=: 'int' and 'str'",
     "output_type": "error",
     "traceback": [
      "\u001b[0;31m---------------------------------------------------------------------------\u001b[0m",
      "\u001b[0;31mTypeError\u001b[0m                                 Traceback (most recent call last)",
      "\u001b[0;32m<ipython-input-16-056879470e24>\u001b[0m in \u001b[0;36m<module>\u001b[0;34m()\u001b[0m\n\u001b[0;32m----> 1\u001b[0;31m \u001b[0mfunky_function\u001b[0m\u001b[0;34m(\u001b[0m\u001b[0;36m5\u001b[0m\u001b[0;34m)\u001b[0m \u001b[0;31m# hit Shift-Tab inside of parenthesis for docstring\u001b[0m\u001b[0;34m\u001b[0m\u001b[0m\n\u001b[0m",
      "\u001b[0;32m<ipython-input-2-c8760d709c13>\u001b[0m in \u001b[0;36mfunky_function\u001b[0;34m(string)\u001b[0m\n\u001b[1;32m      7\u001b[0m     \u001b[0;34m:\u001b[0m\u001b[0;32mreturn\u001b[0m\u001b[0;34m:\u001b[0m \u001b[0mString\u001b[0m\u001b[0;34m\u001b[0m\u001b[0m\n\u001b[1;32m      8\u001b[0m     \"\"\"\n\u001b[0;32m----> 9\u001b[0;31m     \u001b[0mstring\u001b[0m \u001b[0;34m+=\u001b[0m \u001b[0;34m\" loves tab completion too <3\"\u001b[0m\u001b[0;34m\u001b[0m\u001b[0m\n\u001b[0m\u001b[1;32m     10\u001b[0m     \u001b[0;32mreturn\u001b[0m \u001b[0mstring\u001b[0m\u001b[0;34m\u001b[0m\u001b[0m\n",
      "\u001b[0;31mTypeError\u001b[0m: unsupported operand type(s) for +=: 'int' and 'str'"
     ]
    }
   ],
   "source": [
    "funky_function(5) # hit Shift-Tab inside of parenthesis for docstring "
   ]
  },
  {
   "cell_type": "markdown",
   "metadata": {},
   "source": [
    "# Magic"
   ]
  },
  {
   "cell_type": "code",
   "execution_count": 17,
   "metadata": {
    "collapsed": true
   },
   "outputs": [],
   "source": [
    "%magic"
   ]
  },
  {
   "cell_type": "code",
   "execution_count": 18,
   "metadata": {
    "collapsed": false
   },
   "outputs": [
    {
     "data": {
      "text/plain": [
       "41.9100804280024"
      ]
     },
     "execution_count": 18,
     "metadata": {},
     "output_type": "execute_result"
    }
   ],
   "source": [
    "import timeit\n",
    "timeit.timeit('\"-\".join(str(n) for n in range(100))')"
   ]
  },
  {
   "cell_type": "code",
   "execution_count": 19,
   "metadata": {
    "collapsed": false
   },
   "outputs": [
    {
     "name": "stdout",
     "output_type": "stream",
     "text": [
      "The result is 2\n",
      "The slowest run took 19.91 times longer than the fastest. This could mean that an intermediate result is being cached \n",
      "10000000 loops, best of 3: 174 ns per loop\n"
     ]
    }
   ],
   "source": [
    "print(\"The result is {}\".format(math.ceil(1.23)))\n",
    "%timeit math.ceil(1.23)"
   ]
  },
  {
   "cell_type": "code",
   "execution_count": 20,
   "metadata": {
    "collapsed": false
   },
   "outputs": [
    {
     "name": "stdout",
     "output_type": "stream",
     "text": [
      "1000 loops, best of 3: 219 µs per loop\n"
     ]
    }
   ],
   "source": [
    "%%timeit \n",
    "results = []\n",
    "for ele in range(0, 1000):\n",
    "    ele = (ele + 3) * 666\n",
    "    results.append(ele)"
   ]
  },
  {
   "cell_type": "code",
   "execution_count": 21,
   "metadata": {
    "collapsed": false
   },
   "outputs": [
    {
     "name": "stdout",
     "output_type": "stream",
     "text": [
      "10000 loops, best of 3: 141 µs per loop\n"
     ]
    }
   ],
   "source": [
    "%%timeit\n",
    "[(ele + 3) * 666 for ele in range(0, 1000)]"
   ]
  },
  {
   "cell_type": "code",
   "execution_count": 54,
   "metadata": {
    "collapsed": false
   },
   "outputs": [
    {
     "name": "stdout",
     "output_type": "stream",
     "text": [
      "%%javascript\n",
      "$.getScript('https://kmahelona.github.io/ipython_notebook_goodies/ipython_notebook_toc.js')\n",
      "print \"tab completion we love you!! \"*5\n",
      "def funky_function(string):\n",
      "    \"\"\"\n",
      "    makes a string more awesome\n",
      "    please use everywhere and all the time\n",
      "    n.b. should be part of standard library\n",
      "    :param string: String\n",
      "    :return: String\n",
      "    \"\"\"\n",
      "    string += \" loves tab completion too <3\"\n",
      "    return string\n",
      "funky_function(\"bubu\")\n",
      "print(\"tab completion we love you!! \"*5)\n",
      "def funky_function(string):\n",
      "    \"\"\"\n",
      "    makes a string more awesome\n",
      "    please use everywhere and all the time\n",
      "    n.b. should be part of standard library\n",
      "    :param string: String\n",
      "    :return: String\n",
      "    \"\"\"\n",
      "    string += \" loves tab completion too <3\"\n",
      "    return string\n",
      "funky_function(\"bubu\")\n",
      "import math\n",
      "give_me_or_I_will = 1000000\n",
      "math.log(give_me_or_I_will, 10)\n",
      "import this\n",
      "?\n",
      "%quickref\n",
      "pwd\n",
      "cd ~/install/\n",
      "ls -lhtr\n",
      "cd ~/Dropbox/CBioVikings_Ipython_Pandas/\n",
      "%%bash\n",
      "echo \"My shell is:\" $SHELL\n",
      "echo \"My disk usage is:\"\n",
      "df -h\n",
      "var = !ls\n",
      "len(var), var[:3]\n",
      "var = !pwd # store \n",
      "print type(var)\n",
      "print len(var)\n",
      "print var[0]\n",
      "import timeit\n",
      "timeit.timeit('\"-\".join(str(n) for n in range(100))')\n",
      "print \"The result is {}\".format(math.ceil(1.23))\n",
      "%timeit math.ceil(1.23)\n",
      "var = !pwd # store \n",
      "print(type(var))\n",
      "print(len(var))\n",
      "print(var[0])\n",
      "import os\n",
      "os.path.basename(var[0])\n",
      "pwd\n",
      "files = !ls\n",
      "for index_, file_ in enumerate(files):\n",
      "    if file_.endswith('ipynb'):\n",
      "        print \"{:02d} - {}\".format(index_, os.path.splitext(file_)[0])\n",
      "files = !ls\n",
      "for index_, file_ in enumerate(files):\n",
      "    if file_.endswith('ipynb'):\n",
      "        print(\"{:02d} - {}\".format(index_, os.path.splitext(file_)[0]))\n",
      "pwd\n",
      "cd ~/Dropbox/CBioVikings_Ipython_Pandas/\n",
      "%%bash\n",
      "echo \"My shell is:\" $SHELL\n",
      "echo \"My disk usage is:\"\n",
      "df -h\n",
      "var = !ls\n",
      "len(var), var[:3]\n",
      "var = !pwd # store \n",
      "print(type(var))\n",
      "print(len(var))\n",
      "print(var[0])\n",
      "import os\n",
      "os.path.basename(var[0])\n",
      "cd ~/modules/cpr/cbv_pandas/\n",
      "files = !ls\n",
      "for index_, file_ in enumerate(files):\n",
      "    if file_.endswith('ipynb'):\n",
      "        print(\"{:02d} - {}\".format(index_, os.path.splitext(file_)[0]))\n",
      "fn = r\"~\" # hit `Tab` once to complete to homedir, hit `Tab` again to complete some more\n",
      "??funky_function # execute to get details about object\n",
      "math.log?\n",
      "funky_function? # execute to get details about object\n",
      "?funky_function # execute to get details about object\n",
      "fn = r\"~\" # hit `Tab` once to complete to homedir, hit `Tab` again to complete some more\n",
      "?funky_function # execute to get details about object\n",
      "math.log?\n",
      "?math.log\n",
      "?math.log\n",
      "funky_function() # hit Shift-Tab inside of parenthesis for docstring\n",
      "# funky_function() # hit Shift-Tab inside of parenthesis for docstring\n",
      "funky_function() # hit Shift-Tab inside of parenthesis for docstring\n",
      "# funky_function() # hit Shift-Tab inside of parenthesis for docstring\n",
      "%magic\n",
      "import timeit\n",
      "timeit.timeit('\"-\".join(str(n) for n in range(100))')\n",
      "print \"The result is {}\".format(math.ceil(1.23))\n",
      "%timeit math.ceil(1.23)\n",
      "print(\"The result is {}\".format(math.ceil(1.23)))\n",
      "%timeit math.ceil(1.23)\n",
      "%%timeit \n",
      "results = []\n",
      "for ele in range(0, 1000):\n",
      "    ele = (ele + 3) * 666\n",
      "    results.append(ele)\n",
      "%%timeit\n",
      "[(ele + 3) * 666 for ele in range(0, 1000)]\n",
      "%history\n"
     ]
    }
   ],
   "source": [
    "%history"
   ]
  },
  {
   "cell_type": "markdown",
   "metadata": {},
   "source": [
    "### Display things"
   ]
  },
  {
   "cell_type": "code",
   "execution_count": 22,
   "metadata": {
    "collapsed": false
   },
   "outputs": [
    {
     "data": {
      "text/html": [
       "<iframe src=http://cbiovikings.org/ width=800 height=350></iframe>"
      ],
      "text/plain": [
       "<IPython.core.display.HTML object>"
      ]
     },
     "execution_count": 22,
     "metadata": {},
     "output_type": "execute_result"
    }
   ],
   "source": [
    "from IPython.core.display import HTML\n",
    "HTML(\"<iframe src=http://cbiovikings.org/ width=800 height=350></iframe>\")"
   ]
  },
  {
   "cell_type": "code",
   "execution_count": 23,
   "metadata": {
    "collapsed": false
   },
   "outputs": [],
   "source": [
    "import pandas as pd\n",
    "import numpy as np\n",
    "import matplotlib.pyplot as plt\n",
    "import matplotlib\n",
    "%matplotlib inline\n",
    "matplotlib.style.use('ggplot')"
   ]
  },
  {
   "cell_type": "code",
   "execution_count": 24,
   "metadata": {
    "collapsed": false
   },
   "outputs": [
    {
     "data": {
      "text/plain": [
       "<matplotlib.figure.Figure at 0x10d18eb70>"
      ]
     },
     "metadata": {},
     "output_type": "display_data"
    },
    {
     "data": {
      "image/png": "[encoded data removed]",
      "text/plain": [
       "<matplotlib.figure.Figure at 0x10d1b26d8>"
      ]
     },
     "metadata": {},
     "output_type": "display_data"
    }
   ],
   "source": [
    "df = pd.DataFrame(np.random.randn(1000, 4), index=pd.date_range('1/1/2000', periods=1000), columns=list('ABCD'))\n",
    "df = df.cumsum()\n",
    "\n",
    "plt.figure(); df.plot();"
   ]
  },
  {
   "cell_type": "code",
   "execution_count": null,
   "metadata": {
    "collapsed": true
   },
   "outputs": [],
   "source": []
  }
 ],
 "metadata": {
  "kernelspec": {
   "display_name": "IPython (Python 3)",
   "language": "python",
   "name": "python3"
  },
  "language_info": {
   "codemirror_mode": {
    "name": "ipython",
    "version": 3
   },
   "file_extension": ".py",
   "mimetype": "text/x-python",
   "name": "python",
   "nbconvert_exporter": "python",
   "pygments_lexer": "ipython3",
   "version": "3.5.1"
  }
 },
 "nbformat": 4,
 "nbformat_minor": 0
}
